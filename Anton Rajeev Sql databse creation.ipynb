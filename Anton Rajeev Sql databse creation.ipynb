{
 "cells": [
  {
   "cell_type": "code",
   "execution_count": 1,
   "id": "2e38f0d0",
   "metadata": {},
   "outputs": [
    {
     "name": "stdout",
     "output_type": "stream",
     "text": [
      "Collecting faker\n",
      "  Obtaining dependency information for faker from https://files.pythonhosted.org/packages/c0/c3/0451555e7a9a233bc17f128cff7654ec60036d4ccbb8397dd949f28df176/Faker-33.0.0-py3-none-any.whl.metadata\n",
      "  Downloading Faker-33.0.0-py3-none-any.whl.metadata (15 kB)\n",
      "Requirement already satisfied: python-dateutil>=2.4 in c:\\users\\anton\\anaconda3\\lib\\site-packages (from faker) (2.8.2)\n",
      "Requirement already satisfied: typing-extensions in c:\\users\\anton\\anaconda3\\lib\\site-packages (from faker) (4.7.1)\n",
      "Requirement already satisfied: six>=1.5 in c:\\users\\anton\\anaconda3\\lib\\site-packages (from python-dateutil>=2.4->faker) (1.16.0)\n",
      "Downloading Faker-33.0.0-py3-none-any.whl (1.9 MB)\n",
      "   ---------------------------------------- 0.0/1.9 MB ? eta -:--:--\n",
      "   ----- ---------------------------------- 0.3/1.9 MB 8.3 MB/s eta 0:00:01\n",
      "   ---------------------------------------  1.9/1.9 MB 24.0 MB/s eta 0:00:01\n",
      "   ---------------------------------------  1.9/1.9 MB 24.0 MB/s eta 0:00:01\n",
      "   ---------------------------------------- 1.9/1.9 MB 12.0 MB/s eta 0:00:00\n",
      "Installing collected packages: faker\n",
      "Successfully installed faker-33.0.0\n",
      "Note: you may need to restart the kernel to use updated packages.\n"
     ]
    }
   ],
   "source": [
    "pip install faker"
   ]
  },
  {
   "cell_type": "code",
   "execution_count": 6,
   "id": "b94bb71b",
   "metadata": {},
   "outputs": [
    {
     "name": "stdout",
     "output_type": "stream",
     "text": [
      "Database created and populated successfully!\n"
     ]
    }
   ],
   "source": [
    "import sqlite3\n",
    "from faker import Faker\n",
    "import random\n",
    "from datetime import datetime, timedelta\n",
    "\n",
    "fake = Faker()\n",
    "\n",
    "conn = sqlite3.connect(\"library_management_system.db\")\n",
    "cursor = conn.cursor()\n",
    "\n",
    "# Create tables\n",
    "cursor.execute(\"\"\"\n",
    "CREATE TABLE IF NOT EXISTS Authors (\n",
    "    author_id INTEGER PRIMARY KEY AUTOINCREMENT,\n",
    "    name TEXT NOT NULL,\n",
    "    birth_year INTEGER NOT NULL,\n",
    "    nationality TEXT\n",
    ");\n",
    "\"\"\")\n",
    "\n",
    "cursor.execute(\"\"\"\n",
    "CREATE TABLE IF NOT EXISTS Books (\n",
    "    book_id INTEGER PRIMARY KEY AUTOINCREMENT,\n",
    "    title TEXT NOT NULL,\n",
    "    author_id INTEGER,\n",
    "    publication_year INTEGER,\n",
    "    genre TEXT,\n",
    "    price REAL,\n",
    "    availability_status TEXT CHECK (availability_status IN ('available', 'checked out', 'reserved')),\n",
    "    FOREIGN KEY (author_id) REFERENCES Authors(author_id)\n",
    ");\n",
    "\"\"\")\n",
    "\n",
    "cursor.execute(\"\"\"\n",
    "CREATE TABLE IF NOT EXISTS Members (\n",
    "    member_id INTEGER PRIMARY KEY AUTOINCREMENT,\n",
    "    name TEXT NOT NULL,\n",
    "    membership_type TEXT CHECK (membership_type IN ('Basic', 'Premium')),\n",
    "    joining_date DATE,\n",
    "    total_books_borrowed INTEGER\n",
    ");\n",
    "\"\"\")\n",
    "\n",
    "cursor.execute(\"\"\"\n",
    "CREATE TABLE IF NOT EXISTS Loans (\n",
    "    loan_id INTEGER PRIMARY KEY AUTOINCREMENT,\n",
    "    book_id INTEGER,\n",
    "    member_id INTEGER,\n",
    "    borrow_date DATE,\n",
    "    return_date DATE,\n",
    "    loan_status TEXT CHECK (loan_status IN ('returned', 'overdue')),\n",
    "    FOREIGN KEY (book_id) REFERENCES Books(book_id),\n",
    "    FOREIGN KEY (member_id) REFERENCES Members(member_id)\n",
    ");\n",
    "\"\"\")\n",
    "\n",
    "# Data generation functions\n",
    "def generate_authors(num=50):\n",
    "    authors = []\n",
    "    for _ in range(num):\n",
    "        name = fake.name()\n",
    "        birth_year = random.randint(1900, 1995)\n",
    "        nationality = fake.country()\n",
    "        authors.append((name, birth_year, nationality))\n",
    "    return authors\n",
    "\n",
    "def generate_books(num=200):\n",
    "    books = []\n",
    "    for _ in range(num):\n",
    "        title = fake.sentence(nb_words=4)\n",
    "        author_id = random.randint(1, 50)  # Assuming 50 authors\n",
    "        publication_year = random.randint(1950, 2023)\n",
    "        genre = random.choice(['Fiction', 'Non-fiction', 'Science', 'History', 'Fantasy'])\n",
    "        price = round(random.uniform(5, 100), 2)\n",
    "        availability_status = random.choice(['available', 'checked out', 'reserved'])\n",
    "        books.append((title, author_id, publication_year, genre, price, availability_status))\n",
    "    return books\n",
    "\n",
    "def generate_members(num=100):\n",
    "    members = []\n",
    "    for _ in range(num):\n",
    "        name = fake.name()\n",
    "        membership_type = random.choice(['Basic', 'Premium'])\n",
    "        joining_date = fake.date_between(start_date='-5y', end_date='today')\n",
    "        total_books_borrowed = random.randint(0, 50)\n",
    "        members.append((name, membership_type, joining_date, total_books_borrowed))\n",
    "    return members\n",
    "\n",
    "def generate_loans(num=1200):\n",
    "    loans = []\n",
    "    for _ in range(num):\n",
    "        book_id = random.randint(1, 200)  # Assuming 200 books\n",
    "        member_id = random.randint(1, 100)  # Assuming 100 members\n",
    "        borrow_date = fake.date_between(start_date='-2y', end_date='today')\n",
    "        return_date = borrow_date + timedelta(days=random.randint(1, 30)) if random.random() > 0.5 else None\n",
    "        loan_status = 'returned' if return_date else 'overdue'\n",
    "        loans.append((book_id, member_id, borrow_date, return_date, loan_status))\n",
    "    return loans\n",
    "\n",
    "# Insert data into tables\n",
    "cursor.executemany(\"\"\"\n",
    "INSERT INTO Authors (name, birth_year, nationality) VALUES (?, ?, ?)\n",
    "\"\"\", generate_authors())\n",
    "\n",
    "cursor.executemany(\"\"\"\n",
    "INSERT INTO Books (title, author_id, publication_year, genre, price, availability_status)\n",
    "VALUES (?, ?, ?, ?, ?, ?)\n",
    "\"\"\", generate_books())\n",
    "\n",
    "cursor.executemany(\"\"\"\n",
    "INSERT INTO Members (name, membership_type, joining_date, total_books_borrowed)\n",
    "VALUES (?, ?, ?, ?)\n",
    "\"\"\", generate_members())\n",
    "\n",
    "cursor.executemany(\"\"\"\n",
    "INSERT INTO Loans (book_id, member_id, borrow_date, return_date, loan_status)\n",
    "VALUES (?, ?, ?, ?, ?)\n",
    "\"\"\", generate_loans())\n",
    "\n",
    "# Commit and close\n",
    "conn.commit()\n",
    "conn.close()\n",
    "\n",
    "print(\"Database created and populated successfully!\")\n"
   ]
  },
  {
   "cell_type": "code",
   "execution_count": 7,
   "id": "7204ff9b",
   "metadata": {},
   "outputs": [
    {
     "data": {
      "text/plain": [
       "'C:\\\\Users\\\\anton'"
      ]
     },
     "execution_count": 7,
     "metadata": {},
     "output_type": "execute_result"
    }
   ],
   "source": [
    "import os\n",
    "os.getcwd()"
   ]
  },
  {
   "cell_type": "code",
   "execution_count": null,
   "id": "70db2ec7",
   "metadata": {},
   "outputs": [],
   "source": []
  }
 ],
 "metadata": {
  "kernelspec": {
   "display_name": "Python 3 (ipykernel)",
   "language": "python",
   "name": "python3"
  },
  "language_info": {
   "codemirror_mode": {
    "name": "ipython",
    "version": 3
   },
   "file_extension": ".py",
   "mimetype": "text/x-python",
   "name": "python",
   "nbconvert_exporter": "python",
   "pygments_lexer": "ipython3",
   "version": "3.11.4"
  }
 },
 "nbformat": 4,
 "nbformat_minor": 5
}
